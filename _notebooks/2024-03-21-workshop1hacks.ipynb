{
 "cells": [
  {
   "cell_type": "markdown",
   "metadata": {},
   "source": [
    "---\n",
    "layout: post \n",
    "title: Workshop FRQ 1 Hacks\n",
    "type: ccc\n",
    "week: 25\n",
    "categories: [AP Test Prep, Java, Tri 3]\n",
    "tags: [Notebook, FRQ, Java]\n",
    "---"
   ]
  },
  {
   "cell_type": "markdown",
   "metadata": {},
   "source": [
    "## Question 1 Hacks\n",
    "### Part 1"
   ]
  },
  {
   "cell_type": "code",
   "execution_count": null,
   "metadata": {},
   "outputs": [],
   "source": [
    "public class Person {\n",
    "    String name;\n",
    "    int age;\n",
    "    int height;\n",
    "    String job;\n",
    "\n",
    "    public Person(String name, int age, int height, String job) {\n",
    "        this.name = name;\n",
    "        this.age = age;\n",
    "        this.height = height;\n",
    "        this.job = job;\n",
    "    }\n",
    "}\n",
    "\n",
    "public static void main(String[] args) {\n",
    "    Person person1 = new Person(\"Carl\", 25, 165, \"Construction Worker\");\n",
    "    Person person2 = new Person(\"Adam\", 29, 160, \"Truck Driver\");\n",
    "    Person person3 = person1;\n",
    "    int number = 16;\n",
    "    System.out.println(number);\n",
    "}\n",
    "main(null);"
   ]
  },
  {
   "cell_type": "markdown",
   "metadata": {},
   "source": [
    "Answer the following questions based on the code above:\n",
    "1. What kind of types are person1 and person2?\n",
    "\n",
    "Answer: Reference Types since they are objects. They are instances of Person class\n",
    "\n",
    "2. Do person1 and person3 point to the same value in memory?\n",
    "\n",
    "Answer: Yes, since person3 is assigned person1\n",
    "\n",
    "3. Is the integer “number” stored in the heap or in the stack?\n",
    "\n",
    "Answer: Stack, since it is primitive type\n",
    "\n",
    "4. Is the value that “person1” points to stored in the heap or in the stack?\n",
    "\n",
    "Answer: Heap, since it is object"
   ]
  },
  {
   "cell_type": "markdown",
   "metadata": {},
   "source": [
    "### Part 2\n",
    "Question 1: Primitive Types vs Reference Types (Unit 1)\n",
    "\n",
    "Situation: You are developing a banking application where you need to represent customer information. You have decided to use both primitive types and reference types for this purpose.\n",
    "\n",
    "(a) Define primitive types and reference types in Java. Provide examples of each.\n",
    "- primitive types store actual values, exactly one value of its declared type at a time. value initialized (0 or false). for example, byte, short, int, long, float, double, char, and boolean\n",
    "- reference types store loaction of object in computer's memory, work with reference of an object not the actual object. for example class, interface, and array\n",
    "\n",
    "(b) Explain the differences between primitive types and reference types in terms of memory allocation and usage in Java programs.\n",
    "- primitive types are allocated space directly on stack, memory for short term variables. the stack memory is last in, first out, efficient but not much size \n",
    "- reference types are allocated memory in the heap, large for memory for dynamic allocation. object is placed into heap, and reference to that object is put in the stack. the variable in the stack references the object in the heap. this is less efficient than just directly accessing the stack like with primitive types. \n",
    "\n",
    "(c) Code:\n",
    "You have a method calculateInterest that takes a primitive double type representing the principal amount and a reference type Customer representing the customer information. Write the method signature and the method implementation. Include comments to explain your code."
   ]
  },
  {
   "cell_type": "code",
   "execution_count": 15,
   "metadata": {},
   "outputs": [
    {
     "name": "stdout",
     "output_type": "stream",
     "text": [
      "Interest: $88.0\n"
     ]
    }
   ],
   "source": [
    "public class Customer{\n",
    "    private String name;\n",
    "    private double interestRate; // interest rate info for customer\\\n",
    "\n",
    "    // constructor\n",
    "    public Customer(String name, double interestRate){\n",
    "        this.name = name;\n",
    "        this.interestRate = interestRate;\n",
    "    }\n",
    "\n",
    "    // getters\n",
    "    public String getName() {\n",
    "        return name;\n",
    "    }\n",
    "    public double getInterestRate() {\n",
    "        return interestRate;\n",
    "    }\n",
    "}\n",
    "public class InterestCalculator{\n",
    "    // method\n",
    "    public static double calculateInterest(double principal, Customer customer) { // method takes primitive double type and customer reference type\n",
    "        // interest rate from customer info\n",
    "        double interestRate = customer.getInterestRate();\n",
    "\n",
    "        // calculate and return interest\n",
    "        double interest = principal*interestRate;\n",
    "        return interest;\n",
    "    }\n",
    "\n",
    "    // main method for test\n",
    "    public static void main(String[] args){\n",
    "        // create customer object\n",
    "        Customer customer = new Customer(\"Aliya\", 0.088); //8.8% interest rate\n",
    "\n",
    "        // calculate interest\n",
    "        double principal = 1000;\n",
    "        double interest = calculateInterest(principal, customer);\n",
    "\n",
    "        System.out.println(\"Interest: $\" + interest);\n",
    "    }\n",
    "}\n",
    "InterestCalculator.main(null);"
   ]
  },
  {
   "cell_type": "markdown",
   "metadata": {},
   "source": [
    "# Question 3 Hacks\n",
    "Situation: You are developing a student management system where you need to store and analyze the grades of students in a class.\n",
    "\n",
    "(a) Define an arrayList in Java. Explain its significance and usefulness in programming.\n",
    "- ArrayList is a resizeable array. normal array has fixed length, while ArrayList is more flexiblle. it is created with initial size that enlarges as the size is exceeded, and can shrink when objects are removed. \n",
    "\n",
    "(b) Code: You need to implement a method `calculateAverageGrade` that takes an arrayList `grades` of integers representing student grades and returns the average of all the elements in the arrayList. Write the method signature and the method implementation. Include comments to explain your code."
   ]
  },
  {
   "cell_type": "code",
   "execution_count": 21,
   "metadata": {},
   "outputs": [
    {
     "name": "stdout",
     "output_type": "stream",
     "text": [
      "Average grade: 83.5\n"
     ]
    }
   ],
   "source": [
    "import java.util.ArrayList;\n",
    "\n",
    "public class AverageGrade{\n",
    "    public static double calculateAverageGrade(ArrayList<Integer> grades){\n",
    "        // initalize sum for avg\n",
    "        double sum = 0;\n",
    "        \n",
    "        // add all elements for sum\n",
    "        for (Integer i: grades){\n",
    "            sum += i;\n",
    "        }\n",
    "        // avg is sum divided by num of elements\n",
    "        double avg = sum/grades.size();\n",
    "        return avg;\n",
    "    }\n",
    "    // main method for testing\n",
    "    public static void main(String[] args){\n",
    "        // create arraylist \n",
    "        ArrayList<Integer> grades = new ArrayList<Integer>();\n",
    "        grades.add(88);\n",
    "        grades.add(92);\n",
    "        grades.add(74);\n",
    "        grades.add(80);\n",
    "        \n",
    "        double avgGrade = calculateAverageGrade(grades);\n",
    "        System.out.println(\"Average grade: \"+ avgGrade);\n",
    "    }\n",
    "}\n",
    "AverageGrade.main(null);"
   ]
  },
  {
   "cell_type": "markdown",
   "metadata": {},
   "source": [
    "# Question 4 Hacks\n",
    "## Scientific Calculator\n",
    "\n",
    "Situation: You are developing a scientific calculator application where users need to perform various mathematical operations.\n",
    "\n",
    "(a) Discuss the purpose and utility of the Math class in Java\n",
    " programming. Provide examples of at least three methods provided by the Math class and explain their usage.\n",
    "- Math class is convenient way of doing math operations, it can do basic arithmetic, trig, rounding, aboslute value, and generate random numbers. \n",
    "\n",
    "Examples of math class methods: \n",
    "1. Math.sqrt(double x) returns square root of given value x\n",
    "2. Math.abs(int x) returns absolute value given integer x\n",
    "3. Math.min(int x, int y) returns smaller of two integer x and y\n",
    "\n",
    "(b) Code:\n",
    "You need to implement a method `calculateSquareRoot` that takes a `double` number as input and returns its square root using the Math class. Write the method signature and the method implementation. Include comments to explain your code."
   ]
  },
  {
   "cell_type": "code",
   "execution_count": 17,
   "metadata": {},
   "outputs": [
    {
     "name": "stdout",
     "output_type": "stream",
     "text": [
      "Square root: 6.123724356957945\n"
     ]
    }
   ],
   "source": [
    "public class SquareRoot{\n",
    "    // method \n",
    "    public static double calculateSquareRoot(double number){ // takes double num\n",
    "        // return square root\n",
    "        return Math.sqrt(number);\n",
    "    }\n",
    "\n",
    "    // main method for testing\n",
    "    public static void main(String[] args){\n",
    "        double num = 37.5;\n",
    "        double sqrtValue = calculateSquareRoot(num);\n",
    "        \n",
    "        System.out.println(\"Square root: \" + sqrtValue);\n",
    "    }\n",
    "}\n",
    "SquareRoot.main(null);"
   ]
  }
 ],
 "metadata": {
  "kernelspec": {
   "display_name": "Java",
   "language": "java",
   "name": "java"
  },
  "language_info": {
   "codemirror_mode": "java",
   "file_extension": ".jshell",
   "mimetype": "text/x-java-source",
   "name": "java",
   "pygments_lexer": "java",
   "version": "12.0.2+10"
  }
 },
 "nbformat": 4,
 "nbformat_minor": 2
}
