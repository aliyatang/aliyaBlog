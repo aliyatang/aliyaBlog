{
 "cells": [
  {
   "cell_type": "markdown",
   "metadata": {},
   "source": [
    "---\n",
    "layout: post\n",
    "title: 2015 FRQ Question 1\n",
    "description: Collegeboard FRQ Tri 2 Final\n",
    "type: ccc\n",
    "week: 24\n",
    "categories: [AP Test Prep, Java, Tri 2]\n",
    "tags: [Notebook, FRQ, Java]\n",
    "---"
   ]
  },
  {
   "cell_type": "markdown",
   "metadata": {},
   "source": [
    "# 2015 Collegeboard FRQ\n",
    "## Question 1\n",
    "### a.\n",
    "Write a static method arraySum that calculates and returns the sum of the entries in a specified one-dimensional array. The following example shows an array arr1 and the value returned by a call to arraySum."
   ]
  },
  {
   "cell_type": "code",
   "execution_count": 8,
   "metadata": {},
   "outputs": [
    {
     "name": "stdout",
     "output_type": "stream",
     "text": [
      "12"
     ]
    }
   ],
   "source": [
    "public class q1a{\n",
    "    public static int arraySum (int[] arr){\n",
    "        int sum = 0;\n",
    "        for (int n : arr){\n",
    "            sum += n;\n",
    "        }\n",
    "        return sum;\n",
    "    }\n",
    "\n",
    "    //test\n",
    "    public static void main(String[] args){\n",
    "        int[] arr = {1, 1, 2, 3, 5};\n",
    "        System.out.print(q1a.arraySum(arr));\n",
    "    }\n",
    "}\n",
    "q1a.main(null);"
   ]
  },
  {
   "cell_type": "markdown",
   "metadata": {},
   "source": [
    "### b. \n",
    "Write a static method rowSums that calculates the sums of each of the rows in a given two-dimensional array and returns these sums in a one-dimensional array. The method has one parameter, a two-dimensional array arr2D of int values. The array is in row-major order: arr2D [ r ] [ c ] is the entry at row r and column c. The method returns a one-dimensional array with one entry for each row of arr2D such that each entry is the sum of the corresponding row in arr2D. As a reminder, each row of a two-dimensional array is a one-dimensional array."
   ]
  },
  {
   "cell_type": "code",
   "execution_count": 13,
   "metadata": {},
   "outputs": [
    {
     "name": "stdout",
     "output_type": "stream",
     "text": [
      "6 14 19 "
     ]
    }
   ],
   "source": [
    "public class q1b{\n",
    "    public static int arraySum (int[] arr){\n",
    "        int sum = 0;\n",
    "        for (int n : arr){\n",
    "            sum += n;\n",
    "        }\n",
    "        return sum;\n",
    "    }\n",
    "    \n",
    "    public static int [] rowSums(int[][] arr2D){\n",
    "        int[] sums = new int[arr2D.length];\n",
    "        for (int i = 0; i < arr2D.length; i++) { \n",
    "            sums[i] = arraySum(arr2D[i]);\n",
    "        }\n",
    "        return sums;\n",
    "    }\n",
    "\n",
    "    // test\n",
    "    public static void main(String[] args){\n",
    "        int[][] mat = {{1,2,3},{5,8,1},{3,7,9}};\n",
    "\n",
    "        int[] matSum = q1b.rowSums(mat);\n",
    "        for (int r : matSum){\n",
    "            System.out.print(r + \" \");\n",
    "        }\n",
    "    }\n",
    "}   \n",
    "q1b.main(null);"
   ]
  },
  {
   "cell_type": "markdown",
   "metadata": {},
   "source": [
    "### c. \n",
    "Write a static method isDiverse that determines whether or not a given two-dimensional array is diverse. The method has one parameter: a two-dimensional array arr2D of int values. The method should return true if all the row sums in the given array are unique; otherwise, it should return false. In the arrays shown above, the call isDiverse (mat1) returns true and the call isDiverse(mat2) returns false."
   ]
  },
  {
   "cell_type": "code",
   "execution_count": 20,
   "metadata": {},
   "outputs": [
    {
     "name": "stdout",
     "output_type": "stream",
     "text": [
      "Mat1: true\n",
      "Mat2: false\n",
      "Mat3: false\n"
     ]
    }
   ],
   "source": [
    "public class q1c {\n",
    "    public static int arraySum (int[] arr){\n",
    "        int sum = 0;\n",
    "        for (int n : arr){\n",
    "            sum += n;\n",
    "        }\n",
    "        return sum;\n",
    "    }\n",
    "\n",
    "    public static int [] rowSums(int[][] arr2D){\n",
    "        int[] sums = new int[arr2D.length];\n",
    "        for (int i = 0; i < arr2D.length; i++) { \n",
    "            sums[i] = arraySum(arr2D[i]);\n",
    "        }\n",
    "        return sums;\n",
    "    }\n",
    "\n",
    "    public static boolean isDiverse(int [ ] [ ] arr2D){\n",
    "        int[] arrSums = rowSums(arr2D);\n",
    "        for (int i = 0; i< arrSums.length;  i++){\n",
    "            for (int j = i+1; j< arrSums.length;  j++){\n",
    "                if (arrSums[i] == arrSums[j]){\n",
    "                    return false;\n",
    "                }\n",
    "            }\n",
    "        }\n",
    "        return true;\n",
    "    }\n",
    "\n",
    "    //test\n",
    "    public static void main(String[] args){\n",
    "        int[][] mat1 = {{1,2,3},{5,8,1},{3,7,9}}; // true 6 14 19\n",
    "        int[][] mat2 = {{1,2,0},{1,1,1},{3,7,1}}; // false 3 3 11\n",
    "        int[][] mat3 = {{1,1,5},{4,2,3},{3,2,2}}; // false 7 9 7\n",
    "\n",
    "        System.out.println(\"Mat1: \"+ isDiverse(mat1));\n",
    "        System.out.println(\"Mat2: \"+ isDiverse(mat2));\n",
    "        System.out.println(\"Mat3: \"+ isDiverse(mat3));\n",
    "    }\n",
    "}\n",
    "q1c.main(null);"
   ]
  },
  {
   "cell_type": "markdown",
   "metadata": {},
   "source": [
    "## Blog\n",
    "The specific type of FRQ 1 is 2D array. In this FRQ we use static methods to manipluate both 1D and 2D arrays In part a, we created the arraySum method to sum 1D array elements. This method would be used through the rest of the problem in parts b and c. In part b, we specifically expanded on part a by  summing rows in a 2D array with method rowSums. I used for loops and the previous arraySum to do this. Part c used both parts a and b, along with nested for loops, to check the uniqueness of the sums for each of the rows to determine array diversity. "
   ]
  }
 ],
 "metadata": {
  "kernelspec": {
   "display_name": "Java",
   "language": "java",
   "name": "java"
  },
  "language_info": {
   "codemirror_mode": "java",
   "file_extension": ".jshell",
   "mimetype": "text/x-java-source",
   "name": "java",
   "pygments_lexer": "java",
   "version": "12.0.2+10"
  }
 },
 "nbformat": 4,
 "nbformat_minor": 2
}
