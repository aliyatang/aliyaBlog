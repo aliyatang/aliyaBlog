{
 "cells": [
  {
   "cell_type": "markdown",
   "metadata": {},
   "source": [
    "---\n",
    "layout: post\n",
    "title: 2015 FRQ Question 4\n",
    "description: Collegeboard FRQ Tri 2 Final\n",
    "type: ccc\n",
    "week: 24\n",
    "categories: [AP Test Prep, Java, Tri 2]\n",
    "tags: [Notebook, FRQ, Java]\n",
    "---"
   ]
  },
  {
   "cell_type": "markdown",
   "metadata": {},
   "source": [
    "# 2015 Collegeboard FRQ\n",
    "## Question 4\n",
    "\n",
    "This question involves the design of an interface, writing a class that implements the interface, and writing a method that uses the interface.\n",
    "\n",
    "### a.\n",
    "A number group represents a group of integers defined in some way. It could be empty, or it could contain one or more integers.\n",
    "\n",
    "Write an interface named NumberGroup that represents a group of integers. The interface should have a single contains method that determines if a given integer is in the group. For example, if group1 is of type NumberGroup, and it contains only the two numbers -5 and 3, then group1.contains(-5) would return true, and group1.contains(2) would return false.\n",
    "Write the complete NumberGroup interface. It must have exactly one method."
   ]
  },
  {
   "cell_type": "code",
   "execution_count": 2,
   "metadata": {},
   "outputs": [],
   "source": [
    "public interface NumberGroup {\n",
    "    boolean contains(int num);\n",
    "}"
   ]
  },
  {
   "cell_type": "markdown",
   "metadata": {},
   "source": [
    "### b. \n",
    "A range represents a number group that contains all (and only) the integers between a minimum value and a maximum value, inclusive.\n",
    "Write the Range class, which is a NumberGroup. The Range class represents the group of int values that range from a given minimum value up through a given maximum value, inclusive. For example,the declaration\n",
    "\n",
    "NumberGroup range1 = new Range(-3, 2); represents the group of integer values -3, -2, -1, 0, 1, 2.\n",
    "\n",
    "Write the complete Range class. Include all necessary instance variables and methods as well as a constructor that takes two int parameters. The first parameter represents the minimum value, and the second parameter represents the maximum value of the range. You may assume that the minimum is less than or equal to the maximum."
   ]
  },
  {
   "cell_type": "code",
   "execution_count": 7,
   "metadata": {},
   "outputs": [
    {
     "name": "stdout",
     "output_type": "stream",
     "text": [
      "Contains 3: true\n",
      "Contains 10: false\n"
     ]
    }
   ],
   "source": [
    "public class Range implements NumberGroup{\n",
    "    private int min;\n",
    "    private int max;\n",
    "\n",
    "    public Range(int min, int max){\n",
    "        this.min = min;\n",
    "        this.max = max;\n",
    "    }\n",
    "\n",
    "    @Override\n",
    "    public boolean contains(int num){\n",
    "        if (num >= min && num <= max){\n",
    "            return true;\n",
    "        }\n",
    "        return false;\n",
    "    }\n",
    "    public static void main(String args[]) {\n",
    "        Range range = new Range(-5, 7);\n",
    "        System.out.println(\"Contains 3: \" + range.contains(3));\n",
    "        System.out.println(\"Contains 10: \" + range.contains(10));\n",
    "    }\n",
    "}\n",
    "Range.main(null);"
   ]
  },
  {
   "cell_type": "markdown",
   "metadata": {},
   "source": [
    "### c. \n",
    "The MultipleGroups class (not shown) represents a collection of NumberGroup objects and is a NumberGroup. The MultipleGroups class stores the number groups in the instance variable groupList (shown below), which is initialized in the constructor.\n",
    "\n",
    "private List<NumberGroup> groupList;\n",
    "\n",
    "Write the MultipleGroups method contains. The method takes an integer and returns true if and only if the integer is contained in one or more of the number groups in groupList.\n",
    "\n",
    "For example, suppose multiple1 has been declared as an instance of MultipleGroups and consists of the three ranges created by the calls new Range(5, 8), new Range(10, 12), and new Range(1, 6). The following table shows the results of several calls to contains."
   ]
  },
  {
   "cell_type": "code",
   "execution_count": 11,
   "metadata": {},
   "outputs": [
    {
     "name": "stdout",
     "output_type": "stream",
     "text": [
      "Contains 3: true\n",
      "Contains 10: false\n",
      "Contains 13: true\n"
     ]
    }
   ],
   "source": [
    "public class MultipleGroups implements NumberGroup {\n",
    "    private List<NumberGroup> groupList;\n",
    "\n",
    "    public MultipleGroups(List<NumberGroup> groupList) {\n",
    "        this.groupList = groupList;\n",
    "    }\n",
    "    \n",
    "    @Override\n",
    "    public boolean contains(int num){\n",
    "        for (NumberGroup group : groupList){\n",
    "            if (group.contains(num)){\n",
    "                return true;\n",
    "            }\n",
    "        }\n",
    "        return false;\n",
    "    }\n",
    "\n",
    "    public static void main(String args[]) {\n",
    "        ArrayList<NumberGroup> groupsList = new ArrayList<NumberGroup>();\n",
    "\n",
    "        Range range1 = new Range(-5, 7);\n",
    "        Range range2 = new Range(3, 9);\n",
    "        Range range3 = new Range(12,14);\n",
    "        groupsList.add(range1); \n",
    "        groupsList.add(range2); \n",
    "        groupsList.add(range3);\n",
    "\n",
    "        MultipleGroups multipleGrp = new MultipleGroups(groupsList);\n",
    "        System.out.println(\"Contains 3: \" + multipleGrp.contains(3));\n",
    "        System.out.println(\"Contains 10: \" + multipleGrp.contains(10));\n",
    "        System.out.println(\"Contains 13: \" + multipleGrp.contains(13));\n",
    "    }\n",
    "}\n",
    "MultipleGroups.main(null);"
   ]
  },
  {
   "cell_type": "markdown",
   "metadata": {},
   "source": [
    "## Blog\n",
    "The specific type of FRQ 4 is methods and control structures. It implements polymorphism through the NumberGroup interface and classes, where each of these classes has to implement the contains method. The Range class implements te NumberGroup interface directly for a range with a constructor initlizaing a min and a max, and contains method checks if a number is in that range. The MultipleGroups class holds the list of NumberGroup Objects where a MultiplGroups instance can contain multiple different number groups. The contains method here iterates through each group to check if the specified number is within the range. "
   ]
  }
 ],
 "metadata": {
  "kernelspec": {
   "display_name": "Java",
   "language": "java",
   "name": "java"
  },
  "language_info": {
   "codemirror_mode": "java",
   "file_extension": ".jshell",
   "mimetype": "text/x-java-source",
   "name": "java",
   "pygments_lexer": "java",
   "version": "12.0.2+10"
  }
 },
 "nbformat": 4,
 "nbformat_minor": 2
}
