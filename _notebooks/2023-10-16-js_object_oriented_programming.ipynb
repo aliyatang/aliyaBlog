{
 "cells": [
  {
   "attachments": {},
   "cell_type": "markdown",
   "metadata": {},
   "source": [
    "---\n",
    "toc: false\n",
    "layout: post\n",
    "title: Javascript Object Oriented Programming\n",
    "description: Tech talk going over object oriented progamming in javascript\n",
    "type: tangibles\n",
    "week: 11\n",
    "categories: [JavaScript, Tri 1]\n",
    "tags: [Notebook, JavaScript, OOP]\n",
    "---"
   ]
  },
  {
   "cell_type": "markdown",
   "metadata": {},
   "source": [
    "# Javascript class\n",
    "- A class can be thought of as anything that you would consider an object in real life\n",
    "    - Computer\n",
    "    - Cat\n",
    "    - Person\n",
    "- Just like any of those objects a class will have attributes and actions that it can perform \n",
    "- This can be thought of as a \"Has-a\" relationship\n",
    "    - Cat\n",
    "        - Has a Tail\n",
    "        - Has fur\n",
    "        - Has the ability to make a sound"
   ]
  },
  {
   "cell_type": "markdown",
   "metadata": {},
   "source": [
    "# Purpose of object oriented programming\n",
    "- Classes are the building blocks of object oriented programming\n",
    "- Classes can be used to help organize your code\n",
    "    - Instead of looking through a 1000 line file of code to figure out what needs to be changed to make your dog walk to the left rather than to the right, you can just look in your 50 line class for dog and know exactly what needs to be changed\n",
    "- Having organization in your code will make it so anyone can easily start working on your project with you\n",
    "- Classes make it so you can reuse your code\n",
    "    - Instead of coding 20 cats from scracth to add to your cat daycare app you can define a cat class and make 20 cat instances quickly"
   ]
  },
  {
   "cell_type": "markdown",
   "metadata": {},
   "source": [
    "# Making a class\n",
    "- A class in javascript is composed of three parts\n",
    "    - A Constructor (constructor)\n",
    "        - Defines what will be passed to this class and what this class will contain when it has been created\n",
    "    - Attributes (this.*)\n",
    "        - Variables associated with the class that may be used inside or outside of the class\n",
    "    - Functions (see makeSound() below)\n",
    "        - Functions that can be called from inside or outside the class to make the object do something\n",
    "- Below is an example of the cat class from earlier"
   ]
  },
  {
   "cell_type": "code",
   "execution_count": 1,
   "metadata": {},
   "outputs": [
    {
     "data": {
      "application/javascript": "\nclass Cat{\n    constructor(furColor, weight, breed, sound){\n        // 'this' here is used to say that this attribute belongs to this class\n        this.furColor = furColor;\n        this.weight = weight;\n        this.breed = breed;\n        this.sound = sound;\n    }\n    \n    makeSound() {\n        console.log(this.sound);\n        // Additional code to make sound goes here\n    }\n\n}\n\n// define the variables we will pass into our cat class\nvar furColor = \"Black\";\nvar weight = 9;\nvar breed = \"Bombay\"\nvar sound = \"meow\"\n\n// to make a new cat you need to call new and pass \n// all of the variables that the cat constructor is expecting\nvar cat = new Cat(furColor, weight, breed, sound);\n\n// call a class function\ncat.makeSound();\n",
      "text/plain": [
       "<IPython.core.display.Javascript object>"
      ]
     },
     "metadata": {},
     "output_type": "display_data"
    }
   ],
   "source": [
    "%%js\n",
    "\n",
    "class Cat{\n",
    "    constructor(furColor, weight, breed, sound){\n",
    "        // 'this' here is used to say that this attribute belongs to this class\n",
    "        this.furColor = furColor;\n",
    "        this.weight = weight;\n",
    "        this.breed = breed;\n",
    "        this.sound = sound;\n",
    "    }\n",
    "    \n",
    "    makeSound() {\n",
    "        console.log(this.sound);\n",
    "        // Additional code to make sound goes here\n",
    "    }\n",
    "\n",
    "}\n",
    "\n",
    "// define the variables we will pass into our cat class\n",
    "var furColor = \"Black\";\n",
    "var weight = 9;\n",
    "var breed = \"Bombay\"\n",
    "var sound = \"meow\"\n",
    "\n",
    "// to make a new cat you need to call new and pass \n",
    "// all of the variables that the cat constructor is expecting\n",
    "var cat = new Cat(furColor, weight, breed, sound);\n",
    "\n",
    "// call a class function\n",
    "cat.makeSound();"
   ]
  },
  {
   "cell_type": "code",
   "execution_count": 2,
   "metadata": {},
   "outputs": [
    {
     "data": {
      "application/javascript": "// Make a small class that could relate to your passion project here\nclass User{\n    constructor(Name, Email, Num){\n        // 'this' here is used to say that this attribute belongs to this class\n        this.furColor = furColor;\n        this.weight = weight;\n        this.breed = breed;\n        this.sound = sound;\n    }\n    \n    makeSound() {\n        console.log(this.sound);\n        // Additional code to make sound goes here\n    }\n\n}\n",
      "text/plain": [
       "<IPython.core.display.Javascript object>"
      ]
     },
     "metadata": {},
     "output_type": "display_data"
    }
   ],
   "source": [
    "%%js\n",
    "// Make a small class that could relate to your passion project here\n",
    "class User{\n",
    "    constructor(name, email, num, msg){\n",
    "        // 'this' here is used to say that this attribute belongs to this class\n",
    "        this.name = name;\n",
    "        this.email = email;\n",
    "        this.num = num;\n",
    "        this.msg = msg;\n",
    "    }\n",
    "    \n",
    "    makeSound() {\n",
    "        console.log(this.sound);\n",
    "        // Additional code to make sound goes here\n",
    "    }\n",
    "\n",
    "}\n"
   ]
  },
  {
   "cell_type": "markdown",
   "metadata": {},
   "source": [
    "# Extending a class\n",
    "- Classes can extend other classes to generalize a group of similar classes\n",
    "    - A laptop class and desktop class might extend a computer class\n",
    "- These type of classes are known as parent and child classes or can be thought of as having an \"is-a\" relationship\n",
    "    - A laptop is a computer\n",
    "    - The computer is the parent class and the laptop is the child class\n",
    "- Variables and functions defined in the parent class can be called with the child class"
   ]
  },
  {
   "cell_type": "code",
   "execution_count": 4,
   "metadata": {
    "vscode": {
     "languageId": "javascript"
    }
   },
   "outputs": [
    {
     "data": {
      "application/javascript": "\nclass Pet{\n    constructor(name, weight, breed){\n        this.name = name;\n        this.weight = weight;\n        this.breed = breed;\n    }\n\n    print() {\n        console.log(this.name, \n                    this.weight, \n                    this.breed, \n                    this.getSound());\n    }\n    \n    getSound() {\n        return \"none\";\n        // Additional code to make sound goes here\n    }\n}\n\n\n// use the extends keyword to say what the parent class of this class is\nclass Cat extends Pet{\n    constructor(name, weight, breed, sound){\n        // use super to call the parent constructor here\n        super(name, weight, breed);\n        this.sound = sound;\n    }\n\n    getSound() {\n        return this.sound;\n        // Additional code to make sound goes here\n    }\n}\n\nclass Dog extends Pet{\n    constructor(name, weight, breed, sound){\n        super(name, weight, breed);\n        this.sound = sound;\n    }\n\n    getSound() {\n        return this.sound;\n        // Additional code to make sound goes here\n    }\n}\n\n// define the variables we will pass into our pet class\nvar fishName = \"Goldy\";\nvar fishWeight = 0.1;\nvar fishBreed = \"Gold Fish\";\n// construct fish\nvar fish = new Pet(fishName, fishWeight, fishBreed);\n\n// define the variables we will pass into our cat class\nvar catName = \"Ziggy\";\nvar catWeight = 9;\nvar catBreed = \"Bombay\";\nvar catSound = \"Meow\";\n// construct cat\nvar cat = new Cat(catName, catWeight, catBreed, catSound);\n\n// define the variables we will pass into our dog class\nvar dogName = \"Fido\";\nvar dogWeight = 50;\nvar dogBreed = \"Mutt\";\nvar dogSound = \"Bark\";\n// construct dog\nvar dog = new Dog(dogName, dogWeight, dogBreed, dogSound);\n\nvar animals = [fish, cat, dog]; // Use an array to store the animals\nfor (var animal of animals) {\n    animal.print();\n}\n",
      "text/plain": [
       "<IPython.core.display.Javascript object>"
      ]
     },
     "metadata": {},
     "output_type": "display_data"
    }
   ],
   "source": [
    "%%js\n",
    "\n",
    "class Pet{\n",
    "    constructor(name, weight, breed){\n",
    "        this.name = name;\n",
    "        this.weight = weight;\n",
    "        this.breed = breed;\n",
    "    }\n",
    "\n",
    "    print() {\n",
    "        console.log(this.name, \n",
    "                    this.weight, \n",
    "                    this.breed, \n",
    "                    this.getSound());\n",
    "    }\n",
    "    \n",
    "    getSound() {\n",
    "        return \"none\";\n",
    "        // Additional code to make sound goes here\n",
    "    }\n",
    "}\n",
    "\n",
    "\n",
    "// use the extends keyword to say what the parent class of this class is\n",
    "class Cat extends Pet{\n",
    "    constructor(name, weight, breed, sound){\n",
    "        // use super to call the parent constructor here\n",
    "        super(name, weight, breed);\n",
    "        this.sound = sound;\n",
    "    }\n",
    "\n",
    "    getSound() {\n",
    "        return this.sound;\n",
    "        // Additional code to make sound goes here\n",
    "    }\n",
    "}\n",
    "\n",
    "class Dog extends Pet{\n",
    "    constructor(name, weight, breed, sound){\n",
    "        super(name, weight, breed);\n",
    "        this.sound = sound;\n",
    "    }\n",
    "\n",
    "    getSound() {\n",
    "        return this.sound;\n",
    "        // Additional code to make sound goes here\n",
    "    }\n",
    "}\n",
    "\n",
    "// define the variables we will pass into our pet class\n",
    "var fishName = \"Goldy\";\n",
    "var fishWeight = 0.1;\n",
    "var fishBreed = \"Gold Fish\";\n",
    "// construct fish\n",
    "var fish = new Pet(fishName, fishWeight, fishBreed);\n",
    "\n",
    "// define the variables we will pass into our cat class\n",
    "var catName = \"Ziggy\";\n",
    "var catWeight = 9;\n",
    "var catBreed = \"Bombay\";\n",
    "var catSound = \"Meow\";\n",
    "// construct cat\n",
    "var cat = new Cat(catName, catWeight, catBreed, catSound);\n",
    "\n",
    "// define the variables we will pass into our dog class\n",
    "var dogName = \"Fido\";\n",
    "var dogWeight = 50;\n",
    "var dogBreed = \"Mutt\";\n",
    "var dogSound = \"Bark\";\n",
    "// construct dog\n",
    "var dog = new Dog(dogName, dogWeight, dogBreed, dogSound);\n",
    "\n",
    "var animals = [fish, cat, dog]; // Use an array to store the animals\n",
    "for (var animal of animals) {\n",
    "    animal.print();\n",
    "}"
   ]
  },
  {
   "cell_type": "code",
   "execution_count": null,
   "metadata": {
    "vscode": {
     "languageId": "shellscript"
    }
   },
   "outputs": [],
   "source": [
    "%%js\n",
    "// Make a parent class and a child class related to your passion project"
   ]
  },
  {
   "attachments": {},
   "cell_type": "markdown",
   "metadata": {},
   "source": [
    "# Draw.io\n",
    "- Draw.io is a tool that you can use right in vscode as an extension\n",
    "- This tool can help you visualize the classes you have in your program and how they relate to eachother\n",
    "<br>"
   ]
  },
  {
   "cell_type": "markdown",
   "metadata": {},
   "source": [
    "![draw_io_example](/assets/img/draw_io_example.png)"
   ]
  },
  {
   "cell_type": "markdown",
   "metadata": {},
   "source": [
    "- In this project we added multiple classes\n",
    "- This draw io board shows that a parent class can also extend a class \n",
    "    - Game object is the parent of Character which is the parent of Dog and Monkey\n",
    "    - You can go as many levels as you need to with this\n",
    "- You can add all of the attributes and functions associated with each class as well making it much easier to see the structure of the program at a glance"
   ]
  },
  {
   "cell_type": "markdown",
   "metadata": {},
   "source": [
    "# Hacks\n",
    "- Take some of the separated features of your passion project that you have and make classes out of them\n",
    "- See if any of the features have a structure that would benifit from making a parent class and child classes\n",
    "- Make a Draw.io diagram of the program"
   ]
  }
 ],
 "metadata": {
  "kernelspec": {
   "display_name": "base",
   "language": "python",
   "name": "python3"
  },
  "language_info": {
   "codemirror_mode": {
    "name": "ipython",
    "version": 3
   },
   "file_extension": ".py",
   "mimetype": "text/x-python",
   "name": "python",
   "nbconvert_exporter": "python",
   "pygments_lexer": "ipython3",
   "version": "3.9.12"
  }
 },
 "nbformat": 4,
 "nbformat_minor": 2
}
