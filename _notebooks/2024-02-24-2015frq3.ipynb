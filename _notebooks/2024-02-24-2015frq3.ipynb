{
 "cells": [
  {
   "cell_type": "markdown",
   "metadata": {},
   "source": [
    "---\n",
    "layout: post\n",
    "title: 2015 FRQ Question 3\n",
    "description: Collegeboard FRQ Tri 2 Final\n",
    "type: ccc\n",
    "week: 24\n",
    "categories: [AP Test Prep, Java, Tri 2]\n",
    "tags: [Notebook, FRQ, Java]\n",
    "---"
   ]
  }
 ],
 "metadata": {
  "language_info": {
   "name": "python"
  }
 },
 "nbformat": 4,
 "nbformat_minor": 2
}
