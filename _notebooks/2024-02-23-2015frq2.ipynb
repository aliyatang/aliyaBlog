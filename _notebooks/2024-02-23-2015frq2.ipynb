{
 "cells": [
  {
   "cell_type": "markdown",
   "metadata": {},
   "source": [
    "---\n",
    "layout: post\n",
    "title: 2015 FRQ Question 2\n",
    "description: Collegeboard FRQ Tri 2 Final\n",
    "type: ccc\n",
    "week: 24\n",
    "categories: [AP Test Prep, Java, Tri 2]\n",
    "tags: [Notebook, FRQ, Java]\n",
    "---"
   ]
  },
  {
   "cell_type": "markdown",
   "metadata": {},
   "source": [
    "# 2015 Collegeboard FRQ\n",
    "## Question 2\n",
    "Consider a guessing game in which a player tries to guess a hidden word. The hidden word contains only capital letters and has a length known to the player. A guess contains only capital letters and has the same length as the hidden word.\n",
    "\n",
    "After a guess is made, the player is given a hint that is based on a comparison between the hidden word and the guess. Each position in the hint contains a character that corresponds to the letter in the same position in the guess. The following rules determine the characters that appear in the hint.\n",
    "\n",
    "If the letter in the guess is...\n",
    "- Also in the same position in the hidden word -> hint: matching letter\n",
    "- Also in the hidden word, but in the different position -> hint: \"+\"\n",
    "- Not in the hidden word -> hint: \"*\"\n",
    "\n",
    "The HiddenWord class will be used to represent the hidden word in the game. The hidden word is passed to the constructor. The class contains a method, getHint, that takes a guess and produces a hint.\n",
    "\n",
    "Write the complete HiddenWord class, including any necessary instance variables, its constructor, and the method, getHint, described above. You may assume that the length of the guess is the same as the length of the hidden word."
   ]
  },
  {
   "cell_type": "code",
   "execution_count": 9,
   "metadata": {
    "vscode": {
     "languageId": "java"
    }
   },
   "outputs": [
    {
     "name": "stdout",
     "output_type": "stream",
     "text": [
      "+A+++\n",
      "H****\n",
      "H*++*\n",
      "HAR*S\n",
      "HARPS\n"
     ]
    }
   ],
   "source": [
    "public class HiddenWord {\n",
    "    private String word;\n",
    "    public HiddenWord(String w){\n",
    "        word = w;\n",
    "    }\n",
    "    public String getHint(String guess){\n",
    "        String s=\"\";\n",
    "        for (int i = 0; i <guess.length(); i++){\n",
    "            if (word.charAt(i) == guess.charAt(i)){\n",
    "                s += word.charAt(i);\n",
    "            } else if (word.indexOf(guess.charAt(i)) != -1){\n",
    "                s += \"+\";\n",
    "            } else {\n",
    "                s += \"*\";\n",
    "            }\n",
    "        }\n",
    "        return s;\n",
    "    }\n",
    "\n",
    "    // test\n",
    "    public static void main(String[] args){\n",
    "        HiddenWord puzzle = new HiddenWord(\"HARPS\");\n",
    "        \n",
    "        System.out.println(puzzle.getHint(\"AAAAA\"));\n",
    "        System.out.println(puzzle.getHint(\"HELLO\"));\n",
    "        System.out.println(puzzle.getHint(\"HEART\"));\n",
    "        System.out.println(puzzle.getHint(\"HARMS\"));\n",
    "        System.out.println(puzzle.getHint(\"HARPS\"));\n",
    "    }\n",
    "}\n",
    "HiddenWord.main(null);"
   ]
  }
 ],
 "metadata": {
  "kernelspec": {
   "display_name": "Java",
   "language": "java",
   "name": "java"
  },
  "language_info": {
   "codemirror_mode": "java",
   "file_extension": ".jshell",
   "mimetype": "text/x-java-source",
   "name": "Java",
   "pygments_lexer": "java",
   "version": "12.0.2+10"
  }
 },
 "nbformat": 4,
 "nbformat_minor": 2
}
